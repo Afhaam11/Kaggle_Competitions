{
 "cells": [
  {
   "cell_type": "code",
   "execution_count": 1,
   "id": "531bf796",
   "metadata": {
    "_cell_guid": "b1076dfc-b9ad-4769-8c92-a6c4dae69d19",
    "_uuid": "8f2839f25d086af736a60e9eeb907d3b93b6e0e5",
    "execution": {
     "iopub.execute_input": "2025-02-14T06:46:43.484347Z",
     "iopub.status.busy": "2025-02-14T06:46:43.483901Z",
     "iopub.status.idle": "2025-02-14T06:46:44.518979Z",
     "shell.execute_reply": "2025-02-14T06:46:44.517468Z"
    },
    "papermill": {
     "duration": 1.045534,
     "end_time": "2025-02-14T06:46:44.520794",
     "exception": false,
     "start_time": "2025-02-14T06:46:43.475260",
     "status": "completed"
    },
    "tags": []
   },
   "outputs": [
    {
     "name": "stdout",
     "output_type": "stream",
     "text": [
      "/kaggle/input/titanic/train.csv\n",
      "/kaggle/input/titanic/test.csv\n",
      "/kaggle/input/titanic/gender_submission.csv\n",
      "/kaggle/input/submission/titanic_submission.csv\n",
      "   PassengerId  Survived  Pclass  \\\n",
      "0            1         0       3   \n",
      "1            2         1       1   \n",
      "2            3         1       3   \n",
      "3            4         1       1   \n",
      "4            5         0       3   \n",
      "\n",
      "                                                Name     Sex   Age  SibSp  \\\n",
      "0                            Braund, Mr. Owen Harris    male  22.0      1   \n",
      "1  Cumings, Mrs. John Bradley (Florence Briggs Th...  female  38.0      1   \n",
      "2                             Heikkinen, Miss. Laina  female  26.0      0   \n",
      "3       Futrelle, Mrs. Jacques Heath (Lily May Peel)  female  35.0      1   \n",
      "4                           Allen, Mr. William Henry    male  35.0      0   \n",
      "\n",
      "   Parch            Ticket     Fare Cabin Embarked  \n",
      "0      0         A/5 21171   7.2500   NaN        S  \n",
      "1      0          PC 17599  71.2833   C85        C  \n",
      "2      0  STON/O2. 3101282   7.9250   NaN        S  \n",
      "3      0            113803  53.1000  C123        S  \n",
      "4      0            373450   8.0500   NaN        S  \n"
     ]
    }
   ],
   "source": [
    "# This Python 3 environment comes with many helpful analytics libraries installed\n",
    "# It is defined by the kaggle/python Docker image: https://github.com/kaggle/docker-python\n",
    "# For example, here's several helpful packages to load\n",
    "\n",
    "import numpy as np # linear algebra\n",
    "import pandas as pd # data processing, CSV file I/O (e.g. pd.read_csv)\n",
    "\n",
    "# Input data files are available in the read-only \"../input/\" directory\n",
    "# For example, running this (by clicking run or pressing Shift+Enter) will list all files under the input directory\n",
    "\n",
    "import os\n",
    "for dirname, _, filenames in os.walk('/kaggle/input'):\n",
    "    for filename in filenames:\n",
    "        print(os.path.join(dirname, filename))\n",
    "\n",
    "# You can write up to 20GB to the current directory (/kaggle/working/) that gets preserved as output when you create a version using \"Save & Run All\" \n",
    "# You can also write temporary files to /kaggle/temp/, but they won't be saved outside of the current session\n",
    "\n",
    "train_data = pd.read_csv('/kaggle/input/titanic/train.csv')\n",
    "test_data = pd.read_csv('/kaggle/input/titanic/test.csv')\n",
    "gender_submission = pd.read_csv('/kaggle/input/titanic/gender_submission.csv')\n",
    "\n",
    "print(train_data.head())"
   ]
  },
  {
   "cell_type": "markdown",
   "id": "41429260",
   "metadata": {
    "papermill": {
     "duration": 0.003537,
     "end_time": "2025-02-14T06:46:44.528910",
     "exception": false,
     "start_time": "2025-02-14T06:46:44.525373",
     "status": "completed"
    },
    "tags": []
   },
   "source": [
    "**Process to Clean the Age data**"
   ]
  },
  {
   "cell_type": "code",
   "execution_count": 2,
   "id": "c77e58b4",
   "metadata": {
    "execution": {
     "iopub.execute_input": "2025-02-14T06:46:44.537335Z",
     "iopub.status.busy": "2025-02-14T06:46:44.536982Z",
     "iopub.status.idle": "2025-02-14T06:46:44.553155Z",
     "shell.execute_reply": "2025-02-14T06:46:44.552122Z"
    },
    "papermill": {
     "duration": 0.022924,
     "end_time": "2025-02-14T06:46:44.555271",
     "exception": false,
     "start_time": "2025-02-14T06:46:44.532347",
     "status": "completed"
    },
    "tags": []
   },
   "outputs": [
    {
     "name": "stdout",
     "output_type": "stream",
     "text": [
      "PassengerId    0\n",
      "Survived       0\n",
      "Pclass         0\n",
      "Name           0\n",
      "Sex            0\n",
      "Age            0\n",
      "SibSp          0\n",
      "Parch          0\n",
      "Ticket         0\n",
      "Fare           0\n",
      "Cabin          0\n",
      "Embarked       0\n",
      "dtype: int64\n"
     ]
    }
   ],
   "source": [
    "train_data['Age'] = train_data['Age'].fillna(train_data['Age'].median())\n",
    "train_data['Fare'] = train_data['Fare'].fillna(train_data['Fare'].median())\n",
    "train_data['Cabin'] = train_data['Cabin'].fillna('Unknown')\n",
    "train_data['Embarked'] = train_data['Embarked'].fillna(train_data['Embarked'].mode()[0])\n",
    "print(train_data.isnull().sum())"
   ]
  },
  {
   "cell_type": "markdown",
   "id": "79a3551c",
   "metadata": {
    "papermill": {
     "duration": 0.003868,
     "end_time": "2025-02-14T06:46:44.564044",
     "exception": false,
     "start_time": "2025-02-14T06:46:44.560176",
     "status": "completed"
    },
    "tags": []
   },
   "source": [
    "**Transform raw data into meaningful features to improve model performance.**"
   ]
  },
  {
   "cell_type": "code",
   "execution_count": 3,
   "id": "9fac4f78",
   "metadata": {
    "execution": {
     "iopub.execute_input": "2025-02-14T06:46:44.574006Z",
     "iopub.status.busy": "2025-02-14T06:46:44.573516Z",
     "iopub.status.idle": "2025-02-14T06:46:44.600944Z",
     "shell.execute_reply": "2025-02-14T06:46:44.599477Z"
    },
    "papermill": {
     "duration": 0.034829,
     "end_time": "2025-02-14T06:46:44.603007",
     "exception": false,
     "start_time": "2025-02-14T06:46:44.568178",
     "status": "completed"
    },
    "tags": []
   },
   "outputs": [
    {
     "name": "stdout",
     "output_type": "stream",
     "text": [
      "0        Mr\n",
      "1       Mrs\n",
      "2      Miss\n",
      "3       Mrs\n",
      "4        Mr\n",
      "       ... \n",
      "886    Rare\n",
      "887    Miss\n",
      "888    Miss\n",
      "889      Mr\n",
      "890      Mr\n",
      "Name: Title, Length: 891, dtype: object\n"
     ]
    }
   ],
   "source": [
    "train_data['Title'] = train_data['Name'].str.extract(' ([A-Za-z]+)\\.', expand=False)\n",
    "train_data['Title'] = train_data['Title'].replace(['Lady', 'Countess', 'Dr', 'Rev', 'Major','Master', 'Sir', 'Col', 'Don','Dona', 'Jonkheer'], 'Rare')\n",
    "train_data['Title'] = train_data['Title'].replace('Mlle', 'Miss')\n",
    "train_data['Title'] = train_data['Title'].replace('Ms', 'Miss')\n",
    "train_data['Title'] = train_data['Title'].replace('Mme', 'Mrs')\n",
    "train_data['Deck'] = train_data['Cabin'].str[0].fillna('Unknown')\n",
    "\n",
    "train_data['FamilySize'] = train_data['SibSp'] + train_data['Parch'] + 1\n",
    "\n",
    "train_data['AgeGroup'] = pd.cut(train_data['Age'], bins=[0, 12, 18, 35, 60, 100], labels=['Child', 'Teen', 'Adult', 'MidAge', 'Senior'])\n",
    "\n",
    "print(train_data['Title'])"
   ]
  },
  {
   "cell_type": "markdown",
   "id": "53416e13",
   "metadata": {
    "papermill": {
     "duration": 0.00406,
     "end_time": "2025-02-14T06:46:44.612858",
     "exception": false,
     "start_time": "2025-02-14T06:46:44.608798",
     "status": "completed"
    },
    "tags": []
   },
   "source": [
    "**Convert categorical variables (e.g., Sex, Embarked, Title) into numerical values for modeling**"
   ]
  },
  {
   "cell_type": "code",
   "execution_count": 4,
   "id": "d233872c",
   "metadata": {
    "execution": {
     "iopub.execute_input": "2025-02-14T06:46:44.622559Z",
     "iopub.status.busy": "2025-02-14T06:46:44.622122Z",
     "iopub.status.idle": "2025-02-14T06:46:46.128743Z",
     "shell.execute_reply": "2025-02-14T06:46:46.126494Z"
    },
    "papermill": {
     "duration": 1.514029,
     "end_time": "2025-02-14T06:46:46.131083",
     "exception": false,
     "start_time": "2025-02-14T06:46:44.617054",
     "status": "completed"
    },
    "tags": []
   },
   "outputs": [],
   "source": [
    "from sklearn.preprocessing import LabelEncoder\n",
    "\n",
    "# Encode 'Sex' and 'Embarked'\n",
    "label_encoders = {}\n",
    "for col in ['Sex', 'Embarked', 'Title', 'AgeGroup', 'Deck']:\n",
    "    le = LabelEncoder()\n",
    "    train_data[col] = le.fit_transform(train_data[col].astype(str))\n",
    "    label_encoders[col] = le  # Save encoders for test data\n"
   ]
  },
  {
   "cell_type": "markdown",
   "id": "914c117e",
   "metadata": {
    "papermill": {
     "duration": 0.005609,
     "end_time": "2025-02-14T06:46:46.141612",
     "exception": false,
     "start_time": "2025-02-14T06:46:46.136003",
     "status": "completed"
    },
    "tags": []
   },
   "source": [
    "**Feature Selection**"
   ]
  },
  {
   "cell_type": "code",
   "execution_count": 5,
   "id": "c727ee99",
   "metadata": {
    "execution": {
     "iopub.execute_input": "2025-02-14T06:46:46.154348Z",
     "iopub.status.busy": "2025-02-14T06:46:46.153621Z",
     "iopub.status.idle": "2025-02-14T06:46:46.167822Z",
     "shell.execute_reply": "2025-02-14T06:46:46.165372Z"
    },
    "papermill": {
     "duration": 0.023247,
     "end_time": "2025-02-14T06:46:46.170759",
     "exception": false,
     "start_time": "2025-02-14T06:46:46.147512",
     "status": "completed"
    },
    "tags": []
   },
   "outputs": [],
   "source": [
    "features = ['Pclass', 'Sex', 'Age', 'Fare', 'FamilySize', 'Embarked', 'Title', 'Deck']\n",
    "X = train_data[features]\n",
    "y = train_data['Survived']"
   ]
  },
  {
   "cell_type": "markdown",
   "id": "2fbc2619",
   "metadata": {
    "papermill": {
     "duration": 0.003556,
     "end_time": "2025-02-14T06:46:46.178719",
     "exception": false,
     "start_time": "2025-02-14T06:46:46.175163",
     "status": "completed"
    },
    "tags": []
   },
   "source": [
    "**Split Data into Training/Validation Sets**"
   ]
  },
  {
   "cell_type": "code",
   "execution_count": 6,
   "id": "2a854819",
   "metadata": {
    "execution": {
     "iopub.execute_input": "2025-02-14T06:46:46.187972Z",
     "iopub.status.busy": "2025-02-14T06:46:46.187488Z",
     "iopub.status.idle": "2025-02-14T06:46:46.336256Z",
     "shell.execute_reply": "2025-02-14T06:46:46.332476Z"
    },
    "papermill": {
     "duration": 0.156167,
     "end_time": "2025-02-14T06:46:46.338609",
     "exception": false,
     "start_time": "2025-02-14T06:46:46.182442",
     "status": "completed"
    },
    "tags": []
   },
   "outputs": [],
   "source": [
    "from sklearn.model_selection import train_test_split\n",
    "\n",
    "X_train, X_val, y_train, y_val = train_test_split(X, y, test_size=0.2, random_state=42)"
   ]
  },
  {
   "cell_type": "markdown",
   "id": "0fbc7e2a",
   "metadata": {
    "papermill": {
     "duration": 0.003919,
     "end_time": "2025-02-14T06:46:46.349015",
     "exception": false,
     "start_time": "2025-02-14T06:46:46.345096",
     "status": "completed"
    },
    "tags": []
   },
   "source": [
    "**Training a Model**"
   ]
  },
  {
   "cell_type": "code",
   "execution_count": 7,
   "id": "054b533e",
   "metadata": {
    "execution": {
     "iopub.execute_input": "2025-02-14T06:46:46.361260Z",
     "iopub.status.busy": "2025-02-14T06:46:46.360944Z",
     "iopub.status.idle": "2025-02-14T06:46:46.911661Z",
     "shell.execute_reply": "2025-02-14T06:46:46.910767Z"
    },
    "papermill": {
     "duration": 0.557658,
     "end_time": "2025-02-14T06:46:46.913252",
     "exception": false,
     "start_time": "2025-02-14T06:46:46.355594",
     "status": "completed"
    },
    "tags": []
   },
   "outputs": [
    {
     "data": {
      "text/html": [
       "<style>#sk-container-id-1 {color: black;background-color: white;}#sk-container-id-1 pre{padding: 0;}#sk-container-id-1 div.sk-toggleable {background-color: white;}#sk-container-id-1 label.sk-toggleable__label {cursor: pointer;display: block;width: 100%;margin-bottom: 0;padding: 0.3em;box-sizing: border-box;text-align: center;}#sk-container-id-1 label.sk-toggleable__label-arrow:before {content: \"▸\";float: left;margin-right: 0.25em;color: #696969;}#sk-container-id-1 label.sk-toggleable__label-arrow:hover:before {color: black;}#sk-container-id-1 div.sk-estimator:hover label.sk-toggleable__label-arrow:before {color: black;}#sk-container-id-1 div.sk-toggleable__content {max-height: 0;max-width: 0;overflow: hidden;text-align: left;background-color: #f0f8ff;}#sk-container-id-1 div.sk-toggleable__content pre {margin: 0.2em;color: black;border-radius: 0.25em;background-color: #f0f8ff;}#sk-container-id-1 input.sk-toggleable__control:checked~div.sk-toggleable__content {max-height: 200px;max-width: 100%;overflow: auto;}#sk-container-id-1 input.sk-toggleable__control:checked~label.sk-toggleable__label-arrow:before {content: \"▾\";}#sk-container-id-1 div.sk-estimator input.sk-toggleable__control:checked~label.sk-toggleable__label {background-color: #d4ebff;}#sk-container-id-1 div.sk-label input.sk-toggleable__control:checked~label.sk-toggleable__label {background-color: #d4ebff;}#sk-container-id-1 input.sk-hidden--visually {border: 0;clip: rect(1px 1px 1px 1px);clip: rect(1px, 1px, 1px, 1px);height: 1px;margin: -1px;overflow: hidden;padding: 0;position: absolute;width: 1px;}#sk-container-id-1 div.sk-estimator {font-family: monospace;background-color: #f0f8ff;border: 1px dotted black;border-radius: 0.25em;box-sizing: border-box;margin-bottom: 0.5em;}#sk-container-id-1 div.sk-estimator:hover {background-color: #d4ebff;}#sk-container-id-1 div.sk-parallel-item::after {content: \"\";width: 100%;border-bottom: 1px solid gray;flex-grow: 1;}#sk-container-id-1 div.sk-label:hover label.sk-toggleable__label {background-color: #d4ebff;}#sk-container-id-1 div.sk-serial::before {content: \"\";position: absolute;border-left: 1px solid gray;box-sizing: border-box;top: 0;bottom: 0;left: 50%;z-index: 0;}#sk-container-id-1 div.sk-serial {display: flex;flex-direction: column;align-items: center;background-color: white;padding-right: 0.2em;padding-left: 0.2em;position: relative;}#sk-container-id-1 div.sk-item {position: relative;z-index: 1;}#sk-container-id-1 div.sk-parallel {display: flex;align-items: stretch;justify-content: center;background-color: white;position: relative;}#sk-container-id-1 div.sk-item::before, #sk-container-id-1 div.sk-parallel-item::before {content: \"\";position: absolute;border-left: 1px solid gray;box-sizing: border-box;top: 0;bottom: 0;left: 50%;z-index: -1;}#sk-container-id-1 div.sk-parallel-item {display: flex;flex-direction: column;z-index: 1;position: relative;background-color: white;}#sk-container-id-1 div.sk-parallel-item:first-child::after {align-self: flex-end;width: 50%;}#sk-container-id-1 div.sk-parallel-item:last-child::after {align-self: flex-start;width: 50%;}#sk-container-id-1 div.sk-parallel-item:only-child::after {width: 0;}#sk-container-id-1 div.sk-dashed-wrapped {border: 1px dashed gray;margin: 0 0.4em 0.5em 0.4em;box-sizing: border-box;padding-bottom: 0.4em;background-color: white;}#sk-container-id-1 div.sk-label label {font-family: monospace;font-weight: bold;display: inline-block;line-height: 1.2em;}#sk-container-id-1 div.sk-label-container {text-align: center;}#sk-container-id-1 div.sk-container {/* jupyter's `normalize.less` sets `[hidden] { display: none; }` but bootstrap.min.css set `[hidden] { display: none !important; }` so we also need the `!important` here to be able to override the default hidden behavior on the sphinx rendered scikit-learn.org. See: https://github.com/scikit-learn/scikit-learn/issues/21755 */display: inline-block !important;position: relative;}#sk-container-id-1 div.sk-text-repr-fallback {display: none;}</style><div id=\"sk-container-id-1\" class=\"sk-top-container\"><div class=\"sk-text-repr-fallback\"><pre>RandomForestClassifier(random_state=42)</pre><b>In a Jupyter environment, please rerun this cell to show the HTML representation or trust the notebook. <br />On GitHub, the HTML representation is unable to render, please try loading this page with nbviewer.org.</b></div><div class=\"sk-container\" hidden><div class=\"sk-item\"><div class=\"sk-estimator sk-toggleable\"><input class=\"sk-toggleable__control sk-hidden--visually\" id=\"sk-estimator-id-1\" type=\"checkbox\" checked><label for=\"sk-estimator-id-1\" class=\"sk-toggleable__label sk-toggleable__label-arrow\">RandomForestClassifier</label><div class=\"sk-toggleable__content\"><pre>RandomForestClassifier(random_state=42)</pre></div></div></div></div></div>"
      ],
      "text/plain": [
       "RandomForestClassifier(random_state=42)"
      ]
     },
     "execution_count": 7,
     "metadata": {},
     "output_type": "execute_result"
    }
   ],
   "source": [
    "from sklearn.ensemble import RandomForestClassifier\n",
    "\n",
    "model = RandomForestClassifier(n_estimators=100, random_state=42)\n",
    "model.fit(X_train, y_train)"
   ]
  },
  {
   "cell_type": "code",
   "execution_count": 8,
   "id": "c1c30e81",
   "metadata": {
    "execution": {
     "iopub.execute_input": "2025-02-14T06:46:46.923306Z",
     "iopub.status.busy": "2025-02-14T06:46:46.922900Z",
     "iopub.status.idle": "2025-02-14T06:46:46.970932Z",
     "shell.execute_reply": "2025-02-14T06:46:46.968504Z"
    },
    "papermill": {
     "duration": 0.055945,
     "end_time": "2025-02-14T06:46:46.973755",
     "exception": false,
     "start_time": "2025-02-14T06:46:46.917810",
     "status": "completed"
    },
    "tags": []
   },
   "outputs": [
    {
     "data": {
      "text/html": [
       "<style>#sk-container-id-2 {color: black;background-color: white;}#sk-container-id-2 pre{padding: 0;}#sk-container-id-2 div.sk-toggleable {background-color: white;}#sk-container-id-2 label.sk-toggleable__label {cursor: pointer;display: block;width: 100%;margin-bottom: 0;padding: 0.3em;box-sizing: border-box;text-align: center;}#sk-container-id-2 label.sk-toggleable__label-arrow:before {content: \"▸\";float: left;margin-right: 0.25em;color: #696969;}#sk-container-id-2 label.sk-toggleable__label-arrow:hover:before {color: black;}#sk-container-id-2 div.sk-estimator:hover label.sk-toggleable__label-arrow:before {color: black;}#sk-container-id-2 div.sk-toggleable__content {max-height: 0;max-width: 0;overflow: hidden;text-align: left;background-color: #f0f8ff;}#sk-container-id-2 div.sk-toggleable__content pre {margin: 0.2em;color: black;border-radius: 0.25em;background-color: #f0f8ff;}#sk-container-id-2 input.sk-toggleable__control:checked~div.sk-toggleable__content {max-height: 200px;max-width: 100%;overflow: auto;}#sk-container-id-2 input.sk-toggleable__control:checked~label.sk-toggleable__label-arrow:before {content: \"▾\";}#sk-container-id-2 div.sk-estimator input.sk-toggleable__control:checked~label.sk-toggleable__label {background-color: #d4ebff;}#sk-container-id-2 div.sk-label input.sk-toggleable__control:checked~label.sk-toggleable__label {background-color: #d4ebff;}#sk-container-id-2 input.sk-hidden--visually {border: 0;clip: rect(1px 1px 1px 1px);clip: rect(1px, 1px, 1px, 1px);height: 1px;margin: -1px;overflow: hidden;padding: 0;position: absolute;width: 1px;}#sk-container-id-2 div.sk-estimator {font-family: monospace;background-color: #f0f8ff;border: 1px dotted black;border-radius: 0.25em;box-sizing: border-box;margin-bottom: 0.5em;}#sk-container-id-2 div.sk-estimator:hover {background-color: #d4ebff;}#sk-container-id-2 div.sk-parallel-item::after {content: \"\";width: 100%;border-bottom: 1px solid gray;flex-grow: 1;}#sk-container-id-2 div.sk-label:hover label.sk-toggleable__label {background-color: #d4ebff;}#sk-container-id-2 div.sk-serial::before {content: \"\";position: absolute;border-left: 1px solid gray;box-sizing: border-box;top: 0;bottom: 0;left: 50%;z-index: 0;}#sk-container-id-2 div.sk-serial {display: flex;flex-direction: column;align-items: center;background-color: white;padding-right: 0.2em;padding-left: 0.2em;position: relative;}#sk-container-id-2 div.sk-item {position: relative;z-index: 1;}#sk-container-id-2 div.sk-parallel {display: flex;align-items: stretch;justify-content: center;background-color: white;position: relative;}#sk-container-id-2 div.sk-item::before, #sk-container-id-2 div.sk-parallel-item::before {content: \"\";position: absolute;border-left: 1px solid gray;box-sizing: border-box;top: 0;bottom: 0;left: 50%;z-index: -1;}#sk-container-id-2 div.sk-parallel-item {display: flex;flex-direction: column;z-index: 1;position: relative;background-color: white;}#sk-container-id-2 div.sk-parallel-item:first-child::after {align-self: flex-end;width: 50%;}#sk-container-id-2 div.sk-parallel-item:last-child::after {align-self: flex-start;width: 50%;}#sk-container-id-2 div.sk-parallel-item:only-child::after {width: 0;}#sk-container-id-2 div.sk-dashed-wrapped {border: 1px dashed gray;margin: 0 0.4em 0.5em 0.4em;box-sizing: border-box;padding-bottom: 0.4em;background-color: white;}#sk-container-id-2 div.sk-label label {font-family: monospace;font-weight: bold;display: inline-block;line-height: 1.2em;}#sk-container-id-2 div.sk-label-container {text-align: center;}#sk-container-id-2 div.sk-container {/* jupyter's `normalize.less` sets `[hidden] { display: none; }` but bootstrap.min.css set `[hidden] { display: none !important; }` so we also need the `!important` here to be able to override the default hidden behavior on the sphinx rendered scikit-learn.org. See: https://github.com/scikit-learn/scikit-learn/issues/21755 */display: inline-block !important;position: relative;}#sk-container-id-2 div.sk-text-repr-fallback {display: none;}</style><div id=\"sk-container-id-2\" class=\"sk-top-container\"><div class=\"sk-text-repr-fallback\"><pre>LogisticRegression(max_iter=1000, random_state=42)</pre><b>In a Jupyter environment, please rerun this cell to show the HTML representation or trust the notebook. <br />On GitHub, the HTML representation is unable to render, please try loading this page with nbviewer.org.</b></div><div class=\"sk-container\" hidden><div class=\"sk-item\"><div class=\"sk-estimator sk-toggleable\"><input class=\"sk-toggleable__control sk-hidden--visually\" id=\"sk-estimator-id-2\" type=\"checkbox\" checked><label for=\"sk-estimator-id-2\" class=\"sk-toggleable__label sk-toggleable__label-arrow\">LogisticRegression</label><div class=\"sk-toggleable__content\"><pre>LogisticRegression(max_iter=1000, random_state=42)</pre></div></div></div></div></div>"
      ],
      "text/plain": [
       "LogisticRegression(max_iter=1000, random_state=42)"
      ]
     },
     "execution_count": 8,
     "metadata": {},
     "output_type": "execute_result"
    }
   ],
   "source": [
    "from sklearn.linear_model import LogisticRegression\n",
    "from sklearn.model_selection import train_test_split\n",
    "\n",
    "\n",
    "X_train_split, X_val, y_train_split, y_val = train_test_split(X_train, y_train, test_size=0.2, random_state=42)\n",
    "\n",
    "model = LogisticRegression(max_iter=1000, random_state=42)\n",
    "model.fit(X_train_split, y_train_split)\n"
   ]
  },
  {
   "cell_type": "markdown",
   "id": "b256f851",
   "metadata": {
    "papermill": {
     "duration": 0.003993,
     "end_time": "2025-02-14T06:46:46.982890",
     "exception": false,
     "start_time": "2025-02-14T06:46:46.978897",
     "status": "completed"
    },
    "tags": []
   },
   "source": [
    "**Evaluate performance on the validation set and optimize hyperparameters**"
   ]
  },
  {
   "cell_type": "code",
   "execution_count": 9,
   "id": "42708a66",
   "metadata": {
    "execution": {
     "iopub.execute_input": "2025-02-14T06:46:46.992826Z",
     "iopub.status.busy": "2025-02-14T06:46:46.992325Z",
     "iopub.status.idle": "2025-02-14T06:46:47.000086Z",
     "shell.execute_reply": "2025-02-14T06:46:46.999171Z"
    },
    "papermill": {
     "duration": 0.014603,
     "end_time": "2025-02-14T06:46:47.001534",
     "exception": false,
     "start_time": "2025-02-14T06:46:46.986931",
     "status": "completed"
    },
    "tags": []
   },
   "outputs": [
    {
     "name": "stdout",
     "output_type": "stream",
     "text": [
      "Validation Accuracy: 0.79\n"
     ]
    }
   ],
   "source": [
    "from sklearn.metrics import accuracy_score\n",
    "\n",
    "y_pred = model.predict(X_val)\n",
    "print(f\"Validation Accuracy: {accuracy_score(y_val, y_pred):.2f}\")"
   ]
  },
  {
   "cell_type": "markdown",
   "id": "82f5205d",
   "metadata": {
    "papermill": {
     "duration": 0.003856,
     "end_time": "2025-02-14T06:46:47.010238",
     "exception": false,
     "start_time": "2025-02-14T06:46:47.006382",
     "status": "completed"
    },
    "tags": []
   },
   "source": [
    "**Preparing Test Data**"
   ]
  },
  {
   "cell_type": "code",
   "execution_count": 10,
   "id": "ab15401c",
   "metadata": {
    "execution": {
     "iopub.execute_input": "2025-02-14T06:46:47.020180Z",
     "iopub.status.busy": "2025-02-14T06:46:47.019838Z",
     "iopub.status.idle": "2025-02-14T06:46:47.031838Z",
     "shell.execute_reply": "2025-02-14T06:46:47.030415Z"
    },
    "papermill": {
     "duration": 0.019441,
     "end_time": "2025-02-14T06:46:47.033661",
     "exception": false,
     "start_time": "2025-02-14T06:46:47.014220",
     "status": "completed"
    },
    "tags": []
   },
   "outputs": [],
   "source": [
    "age_median = train_data['Age'].median()\n",
    "test_data['Age'] = test_data['Age'].fillna(age_median)\n",
    "\n",
    "fare_median = train_data['Fare'].median()\n",
    "test_data['Fare'] = test_data['Fare'].fillna(fare_median)\n",
    "\n",
    "embarked_mode = train_data['Embarked'].mode()[0]\n",
    "test_data['Embarked'] = test_data['Embarked'].fillna(embarked_mode)\n",
    "\n",
    "test_data['Cabin'] = test_data['Cabin'].fillna('Unknown')\n"
   ]
  },
  {
   "cell_type": "code",
   "execution_count": 11,
   "id": "bce4530b",
   "metadata": {
    "execution": {
     "iopub.execute_input": "2025-02-14T06:46:47.044206Z",
     "iopub.status.busy": "2025-02-14T06:46:47.043802Z",
     "iopub.status.idle": "2025-02-14T06:46:47.062417Z",
     "shell.execute_reply": "2025-02-14T06:46:47.060468Z"
    },
    "papermill": {
     "duration": 0.026441,
     "end_time": "2025-02-14T06:46:47.065027",
     "exception": false,
     "start_time": "2025-02-14T06:46:47.038586",
     "status": "completed"
    },
    "tags": []
   },
   "outputs": [
    {
     "name": "stdout",
     "output_type": "stream",
     "text": [
      "0        Mr\n",
      "1       Mrs\n",
      "2        Mr\n",
      "3        Mr\n",
      "4       Mrs\n",
      "       ... \n",
      "413      Mr\n",
      "414    Rare\n",
      "415      Mr\n",
      "416      Mr\n",
      "417    Rare\n",
      "Name: Title, Length: 418, dtype: object\n"
     ]
    }
   ],
   "source": [
    "test_data['Title'] = test_data['Name'].str.extract(' ([A-Za-z]+)\\.', expand=False)\n",
    "test_data['Title'] = test_data['Title'].replace(['Lady', 'Countess', 'Dr', 'Rev', 'Major','Master', 'Sir', 'Col', 'Don','Dona', 'Jonkheer'], 'Rare')\n",
    "test_data['Title'] = test_data['Title'].replace('Mlle', 'Miss')\n",
    "test_data['Title'] = test_data['Title'].replace('Ms', 'Miss')\n",
    "test_data['Title'] = test_data['Title'].replace('Mme', 'Mrs')\n",
    "test_data['Deck'] = test_data['Cabin'].str[0].fillna('Unknown')\n",
    "test_data['FamilySize'] = test_data['SibSp'] + test_data['Parch'] + 1\n",
    "\n",
    "test_data['AgeGroup'] = pd.cut(test_data['Age'], bins=[0, 12, 18, 35, 60, 100], labels=['Child', 'Teen', 'Adult', 'MidAge', 'Senior'])\n",
    "\n",
    "print(test_data['Title'])"
   ]
  },
  {
   "cell_type": "code",
   "execution_count": 12,
   "id": "bb6e7624",
   "metadata": {
    "execution": {
     "iopub.execute_input": "2025-02-14T06:46:47.078891Z",
     "iopub.status.busy": "2025-02-14T06:46:47.078368Z",
     "iopub.status.idle": "2025-02-14T06:46:47.088729Z",
     "shell.execute_reply": "2025-02-14T06:46:47.086578Z"
    },
    "papermill": {
     "duration": 0.020099,
     "end_time": "2025-02-14T06:46:47.091028",
     "exception": false,
     "start_time": "2025-02-14T06:46:47.070929",
     "status": "completed"
    },
    "tags": []
   },
   "outputs": [],
   "source": [
    "from sklearn.preprocessing import LabelEncoder\n",
    "\n",
    "# Encode 'Sex' and 'Embarked'\n",
    "label_encoders = {}\n",
    "for col in ['Sex', 'Embarked', 'Title', 'AgeGroup','Deck']:\n",
    "    le = LabelEncoder()\n",
    "    test_data[col] = le.fit_transform(test_data[col].astype(str))\n",
    "    label_encoders[col] = le  # Save encoders for test data"
   ]
  },
  {
   "cell_type": "code",
   "execution_count": 13,
   "id": "14197043",
   "metadata": {
    "execution": {
     "iopub.execute_input": "2025-02-14T06:46:47.102045Z",
     "iopub.status.busy": "2025-02-14T06:46:47.101564Z",
     "iopub.status.idle": "2025-02-14T06:46:47.109802Z",
     "shell.execute_reply": "2025-02-14T06:46:47.107704Z"
    },
    "papermill": {
     "duration": 0.016729,
     "end_time": "2025-02-14T06:46:47.112619",
     "exception": false,
     "start_time": "2025-02-14T06:46:47.095890",
     "status": "completed"
    },
    "tags": []
   },
   "outputs": [],
   "source": [
    "\n",
    "training_features = ['Pclass', 'Sex', 'Age', 'Fare', 'FamilySize', 'Embarked', 'Title','Deck']\n",
    "X_test = test_data[training_features]"
   ]
  },
  {
   "cell_type": "code",
   "execution_count": 14,
   "id": "90e4b1a4",
   "metadata": {
    "execution": {
     "iopub.execute_input": "2025-02-14T06:46:47.124094Z",
     "iopub.status.busy": "2025-02-14T06:46:47.123745Z",
     "iopub.status.idle": "2025-02-14T06:46:47.132443Z",
     "shell.execute_reply": "2025-02-14T06:46:47.129955Z"
    },
    "papermill": {
     "duration": 0.017366,
     "end_time": "2025-02-14T06:46:47.135318",
     "exception": false,
     "start_time": "2025-02-14T06:46:47.117952",
     "status": "completed"
    },
    "tags": []
   },
   "outputs": [
    {
     "name": "stdout",
     "output_type": "stream",
     "text": [
      "PassengerId    0\n",
      "Pclass         0\n",
      "Name           0\n",
      "Sex            0\n",
      "Age            0\n",
      "SibSp          0\n",
      "Parch          0\n",
      "Ticket         0\n",
      "Fare           0\n",
      "Cabin          0\n",
      "Embarked       0\n",
      "Title          0\n",
      "Deck           0\n",
      "FamilySize     0\n",
      "AgeGroup       0\n",
      "dtype: int64\n",
      "Training features: ['Pclass', 'Sex', 'Age', 'Fare', 'FamilySize', 'Embarked', 'Title', 'Deck']\n",
      "Test features: ['Pclass', 'Sex', 'Age', 'Fare', 'FamilySize', 'Embarked', 'Title', 'Deck']\n"
     ]
    }
   ],
   "source": [
    "\n",
    "print(test_data.isnull().sum())\n",
    "\n",
    "print(\"Training features:\", training_features)\n",
    "print(\"Test features:\", X_test.columns.tolist())"
   ]
  },
  {
   "cell_type": "markdown",
   "id": "dda34f8f",
   "metadata": {
    "papermill": {
     "duration": 0.004453,
     "end_time": "2025-02-14T06:46:47.145433",
     "exception": false,
     "start_time": "2025-02-14T06:46:47.140980",
     "status": "completed"
    },
    "tags": []
   },
   "source": [
    "Testing"
   ]
  },
  {
   "cell_type": "code",
   "execution_count": 15,
   "id": "8d343afd",
   "metadata": {
    "execution": {
     "iopub.execute_input": "2025-02-14T06:46:47.157204Z",
     "iopub.status.busy": "2025-02-14T06:46:47.156777Z",
     "iopub.status.idle": "2025-02-14T06:46:47.171031Z",
     "shell.execute_reply": "2025-02-14T06:46:47.168520Z"
    },
    "papermill": {
     "duration": 0.023611,
     "end_time": "2025-02-14T06:46:47.173852",
     "exception": false,
     "start_time": "2025-02-14T06:46:47.150241",
     "status": "completed"
    },
    "tags": []
   },
   "outputs": [
    {
     "name": "stdout",
     "output_type": "stream",
     "text": [
      "[0 1 0 0 1 0 0 0 1 0 0 0 1 0 1 1 0 0 0 1 0 0 1 0 1 0 1 0 0 0 0 0 0 1 0 0 0\n",
      " 0 0 0 0 0 0 1 1 0 0 0 1 1 0 0 0 1 0 0 0 0 0 1 0 0 0 0 1 1 0 0 0 1 0 0 0 0\n",
      " 1 1 0 1 0 0 0 0 0 0 0 0 0 0 0 0 1 0 1 0 0 0 1 0 0 0 1 0 0 0 1 0 0 0 0 0 0\n",
      " 0 1 0 1 0 0 0 0 1 1 0 1 0 0 0 0 0 0 0 0 1 0 0 0 0 0 0 0 0 0 1 0 0 0 0 0 0\n",
      " 0 0 1 0 0 1 0 0 1 0 0 1 0 0 1 0 0 1 0 0 1 0 0 0 0 0 0 0 1 0 1 1 0 0 1 0 1\n",
      " 0 0 0 0 0 0 0 0 0 0 0 1 0 0 1 0 0 1 1 0 0 0 0 1 0 0 0 0 1 0 0 0 0 1 0 1 0\n",
      " 1 0 1 1 0 0 0 0 0 1 0 0 0 0 0 0 0 1 1 1 0 0 0 0 1 0 1 1 0 0 0 0 0 0 0 0 1\n",
      " 0 0 0 1 0 0 0 0 0 0 0 0 0 1 0 0 0 0 0 0 0 0 0 0 0 0 0 0 0 0 0 0 0 0 0 0 0\n",
      " 1 0 0 0 0 0 0 0 0 1 0 0 0 1 0 0 0 0 1 0 0 0 0 0 0 0 0 0 1 0 0 0 0 0 1 0 0\n",
      " 1 0 0 0 0 0 0 0 0 0 1 0 0 0 1 0 0 1 0 0 0 0 0 1 0 0 1 0 1 1 0 1 0 0 0 1 0\n",
      " 0 1 0 0 1 1 0 0 0 0 0 0 1 1 0 0 0 0 0 0 0 1 0 0 0 1 0 1 0 0 1 0 1 0 0 0 0\n",
      " 0 0 0 0 1 0 0 1 0 0 0]\n"
     ]
    }
   ],
   "source": [
    "X_test = test_data[features]\n",
    "test_predictions = model.predict(X_test)\n",
    "print(test_predictions)"
   ]
  },
  {
   "cell_type": "markdown",
   "id": "ae7b8429",
   "metadata": {
    "papermill": {
     "duration": 0.004177,
     "end_time": "2025-02-14T06:46:47.183297",
     "exception": false,
     "start_time": "2025-02-14T06:46:47.179120",
     "status": "completed"
    },
    "tags": []
   },
   "source": [
    "**Submission**"
   ]
  },
  {
   "cell_type": "code",
   "execution_count": 16,
   "id": "ad47a76e",
   "metadata": {
    "execution": {
     "iopub.execute_input": "2025-02-14T06:46:47.193991Z",
     "iopub.status.busy": "2025-02-14T06:46:47.193490Z",
     "iopub.status.idle": "2025-02-14T06:46:47.206413Z",
     "shell.execute_reply": "2025-02-14T06:46:47.204497Z"
    },
    "papermill": {
     "duration": 0.021625,
     "end_time": "2025-02-14T06:46:47.209376",
     "exception": false,
     "start_time": "2025-02-14T06:46:47.187751",
     "status": "completed"
    },
    "tags": []
   },
   "outputs": [],
   "source": [
    "submission = pd.DataFrame({\n",
    "    'PassengerId': test_data['PassengerId'],\n",
    "    'Survived': test_predictions\n",
    "})\n",
    "\n",
    "submission.to_csv('submission.csv', index=False)"
   ]
  }
 ],
 "metadata": {
  "kaggle": {
   "accelerator": "none",
   "dataSources": [
    {
     "databundleVersionId": 26502,
     "sourceId": 3136,
     "sourceType": "competition"
    },
    {
     "datasetId": 6664857,
     "sourceId": 10746817,
     "sourceType": "datasetVersion"
    }
   ],
   "dockerImageVersionId": 30886,
   "isGpuEnabled": false,
   "isInternetEnabled": true,
   "language": "python",
   "sourceType": "notebook"
  },
  "kernelspec": {
   "display_name": "Python 3",
   "language": "python",
   "name": "python3"
  },
  "language_info": {
   "codemirror_mode": {
    "name": "ipython",
    "version": 3
   },
   "file_extension": ".py",
   "mimetype": "text/x-python",
   "name": "python",
   "nbconvert_exporter": "python",
   "pygments_lexer": "ipython3",
   "version": "3.10.12"
  },
  "papermill": {
   "default_parameters": {},
   "duration": 6.886555,
   "end_time": "2025-02-14T06:46:47.938638",
   "environment_variables": {},
   "exception": null,
   "input_path": "__notebook__.ipynb",
   "output_path": "__notebook__.ipynb",
   "parameters": {},
   "start_time": "2025-02-14T06:46:41.052083",
   "version": "2.6.0"
  }
 },
 "nbformat": 4,
 "nbformat_minor": 5
}
